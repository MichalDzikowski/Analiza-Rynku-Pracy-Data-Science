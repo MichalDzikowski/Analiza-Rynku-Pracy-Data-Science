{
 "cells": [
  {
   "cell_type": "code",
   "execution_count": 2,
   "id": "08a15fb6-6761-4546-98bb-9c7e50ebb24a",
   "metadata": {},
   "outputs": [
    {
     "name": "stdout",
     "output_type": "stream",
     "text": [
      "Collecting pandas\n",
      "  Obtaining dependency information for pandas from https://files.pythonhosted.org/packages/86/41/585a168330ff063014880a80d744219dbf1dd7a1c706e75ab3425a987384/pandas-2.3.3-cp312-cp312-win_amd64.whl.metadata\n",
      "  Using cached pandas-2.3.3-cp312-cp312-win_amd64.whl.metadata (19 kB)\n",
      "Collecting altair\n",
      "  Obtaining dependency information for altair from https://files.pythonhosted.org/packages/aa/f3/0b6ced594e51cc95d8c1fc1640d3623770d01e4969d29c0bd09945fafefa/altair-5.5.0-py3-none-any.whl.metadata\n",
      "  Using cached altair-5.5.0-py3-none-any.whl.metadata (11 kB)\n",
      "Requirement already satisfied: numpy>=1.26.0 in c:\\users\\mdzik\\pycharmprojects\\datasciencecareers\\.venv\\lib\\site-packages (from pandas) (2.3.4)\n",
      "Requirement already satisfied: python-dateutil>=2.8.2 in c:\\users\\mdzik\\pycharmprojects\\datasciencecareers\\.venv\\lib\\site-packages (from pandas) (2.9.0.post0)\n",
      "Collecting pytz>=2020.1 (from pandas)\n",
      "  Obtaining dependency information for pytz>=2020.1 from https://files.pythonhosted.org/packages/81/c4/34e93fe5f5429d7570ec1fa436f1986fb1f00c3e0f43a589fe2bbcd22c3f/pytz-2025.2-py2.py3-none-any.whl.metadata\n",
      "  Using cached pytz-2025.2-py2.py3-none-any.whl.metadata (22 kB)\n",
      "Requirement already satisfied: tzdata>=2022.7 in c:\\users\\mdzik\\pycharmprojects\\datasciencecareers\\.venv\\lib\\site-packages (from pandas) (2025.2)\n",
      "Requirement already satisfied: jinja2 in c:\\users\\mdzik\\pycharmprojects\\datasciencecareers\\.venv\\lib\\site-packages (from altair) (3.1.6)\n",
      "Requirement already satisfied: jsonschema>=3.0 in c:\\users\\mdzik\\pycharmprojects\\datasciencecareers\\.venv\\lib\\site-packages (from altair) (4.25.1)\n",
      "Collecting narwhals>=1.14.2 (from altair)\n",
      "  Obtaining dependency information for narwhals>=1.14.2 from https://files.pythonhosted.org/packages/29/13/024ae0586d901f8a6f99e2d29b4ae217e8ef11d3fd944cdfc3bbde5f2a08/narwhals-2.10.0-py3-none-any.whl.metadata\n",
      "  Downloading narwhals-2.10.0-py3-none-any.whl.metadata (11 kB)\n",
      "Requirement already satisfied: packaging in c:\\users\\mdzik\\pycharmprojects\\datasciencecareers\\.venv\\lib\\site-packages (from altair) (25.0)\n",
      "Requirement already satisfied: typing-extensions>=4.10.0 in c:\\users\\mdzik\\pycharmprojects\\datasciencecareers\\.venv\\lib\\site-packages (from altair) (4.15.0)\n",
      "Requirement already satisfied: attrs>=22.2.0 in c:\\users\\mdzik\\pycharmprojects\\datasciencecareers\\.venv\\lib\\site-packages (from jsonschema>=3.0->altair) (25.4.0)\n",
      "Requirement already satisfied: jsonschema-specifications>=2023.03.6 in c:\\users\\mdzik\\pycharmprojects\\datasciencecareers\\.venv\\lib\\site-packages (from jsonschema>=3.0->altair) (2025.9.1)\n",
      "Requirement already satisfied: referencing>=0.28.4 in c:\\users\\mdzik\\pycharmprojects\\datasciencecareers\\.venv\\lib\\site-packages (from jsonschema>=3.0->altair) (0.37.0)\n",
      "Requirement already satisfied: rpds-py>=0.7.1 in c:\\users\\mdzik\\pycharmprojects\\datasciencecareers\\.venv\\lib\\site-packages (from jsonschema>=3.0->altair) (0.28.0)\n",
      "Requirement already satisfied: six>=1.5 in c:\\users\\mdzik\\pycharmprojects\\datasciencecareers\\.venv\\lib\\site-packages (from python-dateutil>=2.8.2->pandas) (1.17.0)\n",
      "Requirement already satisfied: MarkupSafe>=2.0 in c:\\users\\mdzik\\pycharmprojects\\datasciencecareers\\.venv\\lib\\site-packages (from jinja2->altair) (3.0.3)\n",
      "Using cached pandas-2.3.3-cp312-cp312-win_amd64.whl (11.0 MB)\n",
      "Using cached altair-5.5.0-py3-none-any.whl (731 kB)\n",
      "Downloading narwhals-2.10.0-py3-none-any.whl (418 kB)\n",
      "   ---------------------------------------- 0.0/418.1 kB ? eta -:--:--\n",
      "   ---------------------------------------- 0.0/418.1 kB ? eta -:--:--\n",
      "    --------------------------------------- 10.2/418.1 kB ? eta -:--:--\n",
      "   -- ------------------------------------ 30.7/418.1 kB 435.7 kB/s eta 0:00:01\n",
      "   ----- --------------------------------- 61.4/418.1 kB 469.7 kB/s eta 0:00:01\n",
      "   ---------- --------------------------- 112.6/418.1 kB 656.4 kB/s eta 0:00:01\n",
      "   ---------------------- ----------------- 235.5/418.1 kB 1.0 MB/s eta 0:00:01\n",
      "   ---------------------------------------- 418.1/418.1 kB 1.5 MB/s eta 0:00:00\n",
      "Using cached pytz-2025.2-py2.py3-none-any.whl (509 kB)\n",
      "Installing collected packages: pytz, narwhals, pandas, altair\n",
      "Successfully installed altair-5.5.0 narwhals-2.10.0 pandas-2.3.3 pytz-2025.2\n",
      "Note: you may need to restart the kernel to use updated packages.\n"
     ]
    },
    {
     "name": "stderr",
     "output_type": "stream",
     "text": [
      "\n",
      "[notice] A new release of pip is available: 23.2.1 -> 25.3\n",
      "[notice] To update, run: python.exe -m pip install --upgrade pip\n"
     ]
    }
   ],
   "source": [
    "pip install pandas altair"
   ]
  },
  {
   "cell_type": "code",
   "execution_count": 3,
   "id": "94f3a664-dc6a-4bb3-8c0e-4b0357caf183",
   "metadata": {},
   "outputs": [],
   "source": [
    "import pandas as pd\n",
    "import altair as alt"
   ]
  },
  {
   "cell_type": "code",
   "execution_count": 4,
   "id": "e9086c4e-e40e-4e9b-b358-37b6605fec0d",
   "metadata": {},
   "outputs": [],
   "source": [
    "pd.set_option('display.max_columns', None)"
   ]
  },
  {
   "cell_type": "code",
   "execution_count": 5,
   "id": "c2ff50b9-0759-4e39-b226-c68d0d4eb15b",
   "metadata": {},
   "outputs": [
    {
     "data": {
      "text/plain": [
       "DataTransformerRegistry.enable('json')"
      ]
     },
     "execution_count": 5,
     "metadata": {},
     "output_type": "execute_result"
    }
   ],
   "source": [
    "alt.data_transformers.enable('json')"
   ]
  },
  {
   "cell_type": "code",
   "execution_count": 8,
   "id": "92c0dbed-d76d-4223-a452-51f0b5cb87d9",
   "metadata": {},
   "outputs": [],
   "source": [
    "file_path = 'Data Science Jobs Salaries.csv'"
   ]
  },
  {
   "cell_type": "code",
   "execution_count": 9,
   "id": "87ae85d1-753f-43e7-a63e-3a7bc262c4e6",
   "metadata": {},
   "outputs": [],
   "source": [
    "df = pd.read_csv(file_path)"
   ]
  },
  {
   "cell_type": "code",
   "execution_count": 10,
   "id": "99775987-5cc2-440b-ac1b-a3eed9053d65",
   "metadata": {},
   "outputs": [
    {
     "name": "stdout",
     "output_type": "stream",
     "text": [
      "<class 'pandas.core.frame.DataFrame'>\n",
      "RangeIndex: 245 entries, 0 to 244\n",
      "Data columns (total 11 columns):\n",
      " #   Column              Non-Null Count  Dtype \n",
      "---  ------              --------------  ----- \n",
      " 0   work_year           245 non-null    object\n",
      " 1   experience_level    245 non-null    object\n",
      " 2   employment_type     245 non-null    object\n",
      " 3   job_title           245 non-null    object\n",
      " 4   salary              245 non-null    int64 \n",
      " 5   salary_currency     245 non-null    object\n",
      " 6   salary_in_usd       245 non-null    int64 \n",
      " 7   employee_residence  245 non-null    object\n",
      " 8   remote_ratio        245 non-null    int64 \n",
      " 9   company_location    245 non-null    object\n",
      " 10  company_size        245 non-null    object\n",
      "dtypes: int64(3), object(8)\n",
      "memory usage: 21.2+ KB\n"
     ]
    }
   ],
   "source": [
    "df.info()"
   ]
  },
  {
   "cell_type": "code",
   "execution_count": 13,
   "id": "6f4f1ae0-157b-4da7-9352-d27203a3665d",
   "metadata": {},
   "outputs": [
    {
     "data": {
      "text/html": [
       "<div>\n",
       "<style scoped>\n",
       "    .dataframe tbody tr th:only-of-type {\n",
       "        vertical-align: middle;\n",
       "    }\n",
       "\n",
       "    .dataframe tbody tr th {\n",
       "        vertical-align: top;\n",
       "    }\n",
       "\n",
       "    .dataframe thead th {\n",
       "        text-align: right;\n",
       "    }\n",
       "</style>\n",
       "<table border=\"1\" class=\"dataframe\">\n",
       "  <thead>\n",
       "    <tr style=\"text-align: right;\">\n",
       "      <th></th>\n",
       "      <th>salary</th>\n",
       "      <th>salary_in_usd</th>\n",
       "      <th>remote_ratio</th>\n",
       "    </tr>\n",
       "  </thead>\n",
       "  <tbody>\n",
       "    <tr>\n",
       "      <th>count</th>\n",
       "      <td>2.450000e+02</td>\n",
       "      <td>245.000000</td>\n",
       "      <td>245.000000</td>\n",
       "    </tr>\n",
       "    <tr>\n",
       "      <th>mean</th>\n",
       "      <td>5.025418e+05</td>\n",
       "      <td>99868.012245</td>\n",
       "      <td>69.183673</td>\n",
       "    </tr>\n",
       "    <tr>\n",
       "      <th>std</th>\n",
       "      <td>2.276230e+06</td>\n",
       "      <td>83983.326949</td>\n",
       "      <td>37.593421</td>\n",
       "    </tr>\n",
       "    <tr>\n",
       "      <th>min</th>\n",
       "      <td>4.000000e+03</td>\n",
       "      <td>2876.000000</td>\n",
       "      <td>0.000000</td>\n",
       "    </tr>\n",
       "    <tr>\n",
       "      <th>25%</th>\n",
       "      <td>6.000000e+04</td>\n",
       "      <td>45896.000000</td>\n",
       "      <td>50.000000</td>\n",
       "    </tr>\n",
       "    <tr>\n",
       "      <th>50%</th>\n",
       "      <td>1.030000e+05</td>\n",
       "      <td>81000.000000</td>\n",
       "      <td>100.000000</td>\n",
       "    </tr>\n",
       "    <tr>\n",
       "      <th>75%</th>\n",
       "      <td>1.740000e+05</td>\n",
       "      <td>130000.000000</td>\n",
       "      <td>100.000000</td>\n",
       "    </tr>\n",
       "    <tr>\n",
       "      <th>max</th>\n",
       "      <td>3.040000e+07</td>\n",
       "      <td>600000.000000</td>\n",
       "      <td>100.000000</td>\n",
       "    </tr>\n",
       "  </tbody>\n",
       "</table>\n",
       "</div>"
      ],
      "text/plain": [
       "             salary  salary_in_usd  remote_ratio\n",
       "count  2.450000e+02     245.000000    245.000000\n",
       "mean   5.025418e+05   99868.012245     69.183673\n",
       "std    2.276230e+06   83983.326949     37.593421\n",
       "min    4.000000e+03    2876.000000      0.000000\n",
       "25%    6.000000e+04   45896.000000     50.000000\n",
       "50%    1.030000e+05   81000.000000    100.000000\n",
       "75%    1.740000e+05  130000.000000    100.000000\n",
       "max    3.040000e+07  600000.000000    100.000000"
      ]
     },
     "execution_count": 13,
     "metadata": {},
     "output_type": "execute_result"
    }
   ],
   "source": [
    "df.describe()"
   ]
  },
  {
   "cell_type": "code",
   "execution_count": 14,
   "id": "aecfd446-1746-4833-8b0d-13d6f42feb40",
   "metadata": {},
   "outputs": [
    {
     "name": "stdout",
     "output_type": "stream",
     "text": [
      "    work_year experience_level employment_type                  job_title  \\\n",
      "0       2021e               EN              FT    Data Science Consultant   \n",
      "1        2020               SE              FT             Data Scientist   \n",
      "2       2021e               EX              FT       Head of Data Science   \n",
      "3       2021e               EX              FT               Head of Data   \n",
      "4       2021e               EN              FT  Machine Learning Engineer   \n",
      "..        ...              ...             ...                        ...   \n",
      "240      2020               SE              FT             Data Scientist   \n",
      "241     2021e               MI              FT   Principal Data Scientist   \n",
      "242      2020               EN              FT             Data Scientist   \n",
      "243      2020               EN              CT      Business Data Analyst   \n",
      "244     2021e               SE              FT       Data Science Manager   \n",
      "\n",
      "      salary salary_currency  salary_in_usd employee_residence  remote_ratio  \\\n",
      "0      54000             EUR          64369                 DE            50   \n",
      "1      60000             EUR          68428                 GR           100   \n",
      "2      85000             USD          85000                 RU             0   \n",
      "3     230000             USD         230000                 RU            50   \n",
      "4     125000             USD         125000                 US           100   \n",
      "..       ...             ...            ...                ...           ...   \n",
      "240   412000             USD         412000                 US           100   \n",
      "241   151000             USD         151000                 US           100   \n",
      "242   105000             USD         105000                 US           100   \n",
      "243   100000             USD         100000                 US           100   \n",
      "244  7000000             INR          94917                 IN            50   \n",
      "\n",
      "    company_location company_size  \n",
      "0                 DE            L  \n",
      "1                 US            L  \n",
      "2                 RU            M  \n",
      "3                 RU            L  \n",
      "4                 US            S  \n",
      "..               ...          ...  \n",
      "240               US            L  \n",
      "241               US            L  \n",
      "242               US            S  \n",
      "243               US            L  \n",
      "244               IN            L  \n",
      "\n",
      "[245 rows x 11 columns]\n"
     ]
    }
   ],
   "source": [
    "print(df)"
   ]
  },
  {
   "cell_type": "code",
   "execution_count": 17,
   "id": "1144fb99-7462-4342-b87a-f6ccb3160841",
   "metadata": {},
   "outputs": [],
   "source": [
    "# mapowanie nazw, skróty en,mi,se,ex zmienam na pełne nazwy"
   ]
  },
  {
   "cell_type": "code",
   "execution_count": 18,
   "id": "157c0623-519b-4921-b692-6639952578c8",
   "metadata": {},
   "outputs": [],
   "source": [
    "level_map = {\n",
    "    'EN': 'Entry-level (Początkujący)',\n",
    "    'MI': 'Mid-level (Średniozaaw.)',\n",
    "    'SE': 'Senior-level (Senior)',\n",
    "    'EX': 'Executive (Ekspert/Zarządz.)'\n",
    "}"
   ]
  },
  {
   "cell_type": "code",
   "execution_count": 19,
   "id": "eb6eda54-831c-4eec-9586-dc17272faabf",
   "metadata": {},
   "outputs": [],
   "source": [
    "#tworzymy nową kolumnę 'experience_level_full' używając mapy"
   ]
  },
  {
   "cell_type": "code",
   "execution_count": 20,
   "id": "dd0b984a-34ab-47f2-801b-b2074751d8dd",
   "metadata": {},
   "outputs": [],
   "source": [
    "df['experience_level_full'] = df['experience_level'].map(level_map)"
   ]
  },
  {
   "cell_type": "code",
   "execution_count": 21,
   "id": "7d15e3b4-24b8-4b54-a30d-7ec91b459737",
   "metadata": {},
   "outputs": [
    {
     "name": "stdout",
     "output_type": "stream",
     "text": [
      "próbka danych po mapowaniu\n",
      "  experience_level         experience_level_full\n",
      "0               EN    Entry-level (Początkujący)\n",
      "1               SE         Senior-level (Senior)\n",
      "2               EX  Executive (Ekspert/Zarządz.)\n",
      "3               EX  Executive (Ekspert/Zarządz.)\n",
      "4               EN    Entry-level (Początkujący)\n"
     ]
    }
   ],
   "source": [
    "#weryfikacja\n",
    "print(\"próbka danych po mapowaniu\")\n",
    "print(df[['experience_level', 'experience_level_full']].head())"
   ]
  },
  {
   "cell_type": "code",
   "execution_count": 22,
   "id": "b4b17b2a-8d76-4d05-9127-c11c36808540",
   "metadata": {},
   "outputs": [
    {
     "name": "stdout",
     "output_type": "stream",
     "text": [
      "rozkład poziomów doświadczenia\n",
      "experience_level_full\n",
      "Mid-level (Średniozaaw.)        103\n",
      "Senior-level (Senior)            77\n",
      "Entry-level (Początkujący)       54\n",
      "Executive (Ekspert/Zarządz.)     11\n",
      "Name: count, dtype: int64\n"
     ]
    }
   ],
   "source": [
    "print(\"rozkład poziomów doświadczenia\")\n",
    "print(df['experience_level_full'].value_counts())"
   ]
  },
  {
   "cell_type": "code",
   "execution_count": 24,
   "id": "89e5180a-e0d2-49b6-9e11-91e0356a79da",
   "metadata": {},
   "outputs": [],
   "source": [
    "#analiza Stanowisk"
   ]
  },
  {
   "cell_type": "code",
   "execution_count": 25,
   "id": "dbc826b3-34b2-44f9-a240-411cee8dfa98",
   "metadata": {},
   "outputs": [
    {
     "name": "stdout",
     "output_type": "stream",
     "text": [
      "top 10 Najpopularniejszych Stanowisk\n",
      "                   job_title  count\n",
      "0             Data Scientist     59\n",
      "1              Data Engineer     38\n",
      "2  Machine Learning Engineer     20\n",
      "3               Data Analyst     20\n",
      "4         Research Scientist     10\n",
      "5    Data Science Consultant      7\n",
      "6          Big Data Engineer      6\n",
      "7            BI Data Analyst      5\n",
      "8         Lead Data Engineer      5\n",
      "9               AI Scientist      5\n"
     ]
    }
   ],
   "source": [
    "#ile razy występuje każde stanowisko\n",
    "#bierzemy 10 najczęstszych\n",
    "top_jobs = df['job_title'].value_counts().head(10).reset_index()\n",
    "top_jobs.columns = ['job_title', 'count'] #zmiana nazwy kolumn\n",
    "\n",
    "print(\"top 10 Najpopularniejszych Stanowisk\")\n",
    "print(top_jobs)"
   ]
  },
  {
   "cell_type": "code",
   "execution_count": 26,
   "id": "8318747c-ee47-4950-8fb7-3d38deea0863",
   "metadata": {},
   "outputs": [
    {
     "data": {
      "text/html": [
       "<div>\n",
       "<style scoped>\n",
       "    .dataframe tbody tr th:only-of-type {\n",
       "        vertical-align: middle;\n",
       "    }\n",
       "\n",
       "    .dataframe tbody tr th {\n",
       "        vertical-align: top;\n",
       "    }\n",
       "\n",
       "    .dataframe thead th {\n",
       "        text-align: right;\n",
       "    }\n",
       "</style>\n",
       "<table border=\"1\" class=\"dataframe\">\n",
       "  <thead>\n",
       "    <tr style=\"text-align: right;\">\n",
       "      <th></th>\n",
       "      <th>work_year</th>\n",
       "      <th>experience_level</th>\n",
       "      <th>employment_type</th>\n",
       "      <th>job_title</th>\n",
       "      <th>salary</th>\n",
       "      <th>salary_currency</th>\n",
       "      <th>salary_in_usd</th>\n",
       "      <th>employee_residence</th>\n",
       "      <th>remote_ratio</th>\n",
       "      <th>company_location</th>\n",
       "      <th>company_size</th>\n",
       "      <th>experience_level_full</th>\n",
       "    </tr>\n",
       "  </thead>\n",
       "  <tbody>\n",
       "    <tr>\n",
       "      <th>0</th>\n",
       "      <td>2021e</td>\n",
       "      <td>EN</td>\n",
       "      <td>FT</td>\n",
       "      <td>Data Science Consultant</td>\n",
       "      <td>54000</td>\n",
       "      <td>EUR</td>\n",
       "      <td>64369</td>\n",
       "      <td>DE</td>\n",
       "      <td>50</td>\n",
       "      <td>DE</td>\n",
       "      <td>L</td>\n",
       "      <td>Entry-level (Początkujący)</td>\n",
       "    </tr>\n",
       "    <tr>\n",
       "      <th>1</th>\n",
       "      <td>2020</td>\n",
       "      <td>SE</td>\n",
       "      <td>FT</td>\n",
       "      <td>Data Scientist</td>\n",
       "      <td>60000</td>\n",
       "      <td>EUR</td>\n",
       "      <td>68428</td>\n",
       "      <td>GR</td>\n",
       "      <td>100</td>\n",
       "      <td>US</td>\n",
       "      <td>L</td>\n",
       "      <td>Senior-level (Senior)</td>\n",
       "    </tr>\n",
       "    <tr>\n",
       "      <th>2</th>\n",
       "      <td>2021e</td>\n",
       "      <td>EX</td>\n",
       "      <td>FT</td>\n",
       "      <td>Head of Data Science</td>\n",
       "      <td>85000</td>\n",
       "      <td>USD</td>\n",
       "      <td>85000</td>\n",
       "      <td>RU</td>\n",
       "      <td>0</td>\n",
       "      <td>RU</td>\n",
       "      <td>M</td>\n",
       "      <td>Executive (Ekspert/Zarządz.)</td>\n",
       "    </tr>\n",
       "    <tr>\n",
       "      <th>3</th>\n",
       "      <td>2021e</td>\n",
       "      <td>EX</td>\n",
       "      <td>FT</td>\n",
       "      <td>Head of Data</td>\n",
       "      <td>230000</td>\n",
       "      <td>USD</td>\n",
       "      <td>230000</td>\n",
       "      <td>RU</td>\n",
       "      <td>50</td>\n",
       "      <td>RU</td>\n",
       "      <td>L</td>\n",
       "      <td>Executive (Ekspert/Zarządz.)</td>\n",
       "    </tr>\n",
       "    <tr>\n",
       "      <th>4</th>\n",
       "      <td>2021e</td>\n",
       "      <td>EN</td>\n",
       "      <td>FT</td>\n",
       "      <td>Machine Learning Engineer</td>\n",
       "      <td>125000</td>\n",
       "      <td>USD</td>\n",
       "      <td>125000</td>\n",
       "      <td>US</td>\n",
       "      <td>100</td>\n",
       "      <td>US</td>\n",
       "      <td>S</td>\n",
       "      <td>Entry-level (Początkujący)</td>\n",
       "    </tr>\n",
       "  </tbody>\n",
       "</table>\n",
       "</div>"
      ],
      "text/plain": [
       "  work_year experience_level employment_type                  job_title  \\\n",
       "0     2021e               EN              FT    Data Science Consultant   \n",
       "1      2020               SE              FT             Data Scientist   \n",
       "2     2021e               EX              FT       Head of Data Science   \n",
       "3     2021e               EX              FT               Head of Data   \n",
       "4     2021e               EN              FT  Machine Learning Engineer   \n",
       "\n",
       "   salary salary_currency  salary_in_usd employee_residence  remote_ratio  \\\n",
       "0   54000             EUR          64369                 DE            50   \n",
       "1   60000             EUR          68428                 GR           100   \n",
       "2   85000             USD          85000                 RU             0   \n",
       "3  230000             USD         230000                 RU            50   \n",
       "4  125000             USD         125000                 US           100   \n",
       "\n",
       "  company_location company_size         experience_level_full  \n",
       "0               DE            L    Entry-level (Początkujący)  \n",
       "1               US            L         Senior-level (Senior)  \n",
       "2               RU            M  Executive (Ekspert/Zarządz.)  \n",
       "3               RU            L  Executive (Ekspert/Zarządz.)  \n",
       "4               US            S    Entry-level (Początkujący)  "
      ]
     },
     "execution_count": 26,
     "metadata": {},
     "output_type": "execute_result"
    }
   ],
   "source": [
    "df.head()"
   ]
  },
  {
   "cell_type": "code",
   "execution_count": 28,
   "id": "ce7d1343-ce38-40a0-b970-c2b2dd2bf55f",
   "metadata": {},
   "outputs": [],
   "source": [
    "#top 10 Stanowisk (słupkowy)\n",
    "chart_top_jobs = alt.Chart(top_jobs).mark_bar().encode(\n",
    "    \n",
    "    x=alt.X('job_title', title='Stanowisko', sort='-y'),\n",
    "    y=alt.Y('count', title='Liczba Ofert'),\n",
    "    tooltip=[\n",
    "        alt.Tooltip('job_title', title='Stanowisko'),\n",
    "        alt.Tooltip('count', title='Liczba Ofert')\n",
    "    ]\n",
    ").properties(\n",
    "    title='Top 10 Najpopularniejszych Stanowisk w Data Science',\n",
    "    width=800\n",
    ").interactive()\n",
    "\n",
    "chart_top_jobs.save('top_10_jobs.html')\n"
   ]
  },
  {
   "cell_type": "code",
   "execution_count": 29,
   "id": "08386947-3b3b-41b6-b730-16d37cb79dff",
   "metadata": {},
   "outputs": [],
   "source": [
    "#analiza Zarobków vs doświadczenie"
   ]
  },
  {
   "cell_type": "code",
   "execution_count": 30,
   "id": "bb0e94eb-9ce2-4f8a-90b5-9283f0840038",
   "metadata": {},
   "outputs": [],
   "source": [
    "average_salary_by_level = df.groupby('experience_level_full')['salary_in_usd'].mean().reset_index()"
   ]
  },
  {
   "cell_type": "code",
   "execution_count": 31,
   "id": "00b810f8-2f81-4783-9be6-56d186e79225",
   "metadata": {},
   "outputs": [
    {
     "name": "stdout",
     "output_type": "stream",
     "text": [
      "Średnia pensja (USD) wg poziomu doświadczenia\n",
      "          experience_level_full  salary_in_usd\n",
      "1  Executive (Ekspert/Zarządz.)  226288.000000\n",
      "3         Senior-level (Senior)  128841.298701\n",
      "2      Mid-level (Średniozaaw.)   85738.135922\n",
      "0    Entry-level (Początkujący)   59753.462963\n"
     ]
    }
   ],
   "source": [
    "print(\"Średnia pensja (USD) wg poziomu doświadczenia\")\n",
    "print(average_salary_by_level.sort_values(by='salary_in_usd', ascending=False))"
   ]
  },
  {
   "cell_type": "code",
   "execution_count": 32,
   "id": "4c9fc8fc-8de8-46bc-8bc2-8ee58b1443ab",
   "metadata": {},
   "outputs": [],
   "source": [
    "level_order = [\n",
    "    'Entry-level (Początkujący)', \n",
    "    'Mid-level (Średniozaaw.)', \n",
    "    'Senior-level (Senior)', \n",
    "    'Executive (Ekspert/Zarządz.)'\n",
    "]"
   ]
  },
  {
   "cell_type": "code",
   "execution_count": 35,
   "id": "87aa06f7-6e3c-4955-b3a7-2e25edd0dc0b",
   "metadata": {},
   "outputs": [],
   "source": [
    "chart_salary_level = alt.Chart(df).mark_boxplot().encode(\n",
    "    x=alt.X('experience_level_full', title='Poziom Doświadczenia', sort=level_order),\n",
    "    y=alt.Y('salary_in_usd', title='Roczna Pensja (USD)'),\n",
    "    tooltip=[\n",
    "        alt.Tooltip('experience_level_full', title='Poziom'),\n",
    "        alt.Tooltip('salary_in_usd', title='Pensja (USD)', format=',.0f')\n",
    "    ]\n",
    ").properties(\n",
    "    title='Rozkład zarobków (USD) wg poziomu doświadczenia',\n",
    "    width=800\n",
    ").interactive()\n",
    "\n",
    "chart_salary_level.save('salary_vs_experience.html')"
   ]
  },
  {
   "cell_type": "code",
   "execution_count": 36,
   "id": "d1fbe3bd-7c79-40d0-a646-e01a7a9a61a4",
   "metadata": {},
   "outputs": [],
   "source": [
    "#analiza trendów czasowych\n",
    "#obliczanie mediany pensji dla każdego roku i poziomu doświadczenia\n",
    "#grupujemy jednocześnie po dwóch kolumnach"
   ]
  },
  {
   "cell_type": "code",
   "execution_count": 37,
   "id": "83539e35-6bea-4f77-8e28-f300c3184f29",
   "metadata": {},
   "outputs": [],
   "source": [
    "salary_trends = df.groupby(['work_year', 'experience_level_full'])['salary_in_usd'].median().reset_index()"
   ]
  },
  {
   "cell_type": "code",
   "execution_count": 38,
   "id": "a38b57a9-ea87-40b5-8b70-568a196182dd",
   "metadata": {},
   "outputs": [
    {
     "name": "stdout",
     "output_type": "stream",
     "text": [
      "Mediana pensji (USD) wg roku i poziomu\n",
      "  work_year         experience_level_full  salary_in_usd\n",
      "0      2020    Entry-level (Początkujący)        45896.0\n",
      "1      2020  Executive (Ekspert/Zarządz.)       202416.5\n",
      "2      2020      Mid-level (Średniozaaw.)        78395.5\n",
      "3      2020         Senior-level (Senior)       120000.0\n",
      "4     2021e    Entry-level (Początkujący)        59601.0\n"
     ]
    }
   ],
   "source": [
    "print(\"Mediana pensji (USD) wg roku i poziomu\")\n",
    "print(salary_trends.head())"
   ]
  },
  {
   "cell_type": "code",
   "execution_count": 39,
   "id": "e2d07a49-e058-4d41-b2d5-5fae80694e71",
   "metadata": {},
   "outputs": [],
   "source": [
    "level_order = [\n",
    "    'Entry-level (Początkujący)', \n",
    "    'Mid-level (Średniozaaw.)', \n",
    "    'Senior-level (Senior)', \n",
    "    'Executive (Ekspert/Zarządz.)'\n",
    "]"
   ]
  },
  {
   "cell_type": "code",
   "execution_count": 40,
   "id": "62e66de6-eeb2-4f4c-8575-f5e73cf62833",
   "metadata": {},
   "outputs": [],
   "source": [
    "chart_salary_trends = alt.Chart(salary_trends).mark_line(point=True).encode(\n",
    "    # Oś X to rok. Musimy go potraktować jako 'Ordinal' (kolejnościowy), aby uniknąć lat typu \"2020.5\"\n",
    "    \n",
    "    x=alt.X('work_year:O', title='Rok'),\n",
    "    y=alt.Y('salary_in_usd', title='Mediana Pensji (USD)'),\n",
    "    \n",
    "    # Tosobna linię dla każdego poziomu doświadczenia\n",
    "    color=alt.Color('experience_level_full', \n",
    "                    title='Poziom Doświadczenia',\n",
    "                    sort=level_order # Sort leg\n",
    "                   ),\n",
    "    \n",
    "    tooltip=[\n",
    "        alt.Tooltip('work_year', title='Rok'),\n",
    "        alt.Tooltip('experience_level_full', title='Poziom'),\n",
    "        alt.Tooltip('salary_in_usd', title='Mediana Pensji', format=',.0f')\n",
    "    ]\n",
    ").properties(\n",
    "    title='Wzrost mediany zarobków w Data Science (2020-2024)',\n",
    "    width=800\n",
    ").interactive()\n",
    "\n",
    "chart_salary_trends.save('salary_growth_trends.html')"
   ]
  },
  {
   "cell_type": "code",
   "execution_count": 41,
   "id": "3ae876c2-552d-445c-826b-293578669527",
   "metadata": {},
   "outputs": [],
   "source": [
    "#Analiza geograficzna"
   ]
  },
  {
   "cell_type": "code",
   "execution_count": 42,
   "id": "f9159f29-a026-4b6c-b0dd-9bc8d94eb7f2",
   "metadata": {},
   "outputs": [],
   "source": [
    "top_10_countries = df['company_location'].value_counts().head(10).index.tolist()"
   ]
  },
  {
   "cell_type": "code",
   "execution_count": 43,
   "id": "22ec2c88-9f4a-469e-8f64-8800e195e85d",
   "metadata": {},
   "outputs": [
    {
     "name": "stdout",
     "output_type": "stream",
     "text": [
      "Top 10 krajów (lokalizacji firm) z największą liczbą ofert: ['US', 'DE', 'IN', 'GB', 'CA', 'FR', 'ES', 'JP', 'AT', 'TR']\n"
     ]
    }
   ],
   "source": [
    "print(f\"Top 10 krajów (lokalizacji firm) z największą liczbą ofert: {top_10_countries}\")"
   ]
  },
  {
   "cell_type": "code",
   "execution_count": 44,
   "id": "cbb70096-952d-42d7-9bed-fee36427d1b4",
   "metadata": {},
   "outputs": [],
   "source": [
    "df_top_countries = df[df['company_location'].isin(top_10_countries)]"
   ]
  },
  {
   "cell_type": "code",
   "execution_count": 45,
   "id": "48b71b08-9e59-40c3-905d-090a376c56d8",
   "metadata": {},
   "outputs": [],
   "source": [
    "median_salary_by_country = df_top_countries.groupby('company_location')['salary_in_usd'].median().reset_index()"
   ]
  },
  {
   "cell_type": "code",
   "execution_count": 46,
   "id": "f5e22dcc-83fa-447b-b33e-84af7454efbc",
   "metadata": {},
   "outputs": [
    {
     "name": "stdout",
     "output_type": "stream",
     "text": [
      "  company_location  salary_in_usd\n",
      "7               JP       121000.0\n",
      "9               US       120000.0\n",
      "1               CA        96357.0\n",
      "5               GB        80240.5\n",
      "2               DE        79833.0\n",
      "0               AT        74130.0\n",
      "4               FR        53641.0\n",
      "3               ES        47681.0\n",
      "6               IN        22671.0\n",
      "8               TR        21843.0\n"
     ]
    }
   ],
   "source": [
    "print(median_salary_by_country.sort_values(by='salary_in_usd', ascending=False))"
   ]
  },
  {
   "cell_type": "code",
   "execution_count": 47,
   "id": "de751d0d-a321-46f5-97d9-5f956a1e3ca1",
   "metadata": {},
   "outputs": [],
   "source": [
    "chart_country_salary = alt.Chart(median_salary_by_country).mark_bar().encode(\n",
    "    # Sortujemy słupki od największego\n",
    "    x=alt.X('company_location', title='Lokalizacja Firmy', sort='-y'),\n",
    "    y=alt.Y('salary_in_usd', title='Mediana Pensji (USD)'),\n",
    "    tooltip=[\n",
    "        alt.Tooltip('company_location', title='Kraj'),\n",
    "        alt.Tooltip('salary_in_usd', title='Mediana Pensji', format=',.0f')\n",
    "    ]\n",
    ").properties(\n",
    "    title='Mediana zarobków w Data Science (Top 10 krajów wg liczby ofert)',\n",
    "    width=800\n",
    ").interactive()\n",
    "\n",
    "chart_country_salary.save('salary_by_country.html')"
   ]
  },
  {
   "cell_type": "code",
   "execution_count": 48,
   "id": "5ad1a5f0-e08b-4e97-96d9-f17a5393c29b",
   "metadata": {},
   "outputs": [],
   "source": [
    "#analiza wielkości firmy"
   ]
  },
  {
   "cell_type": "code",
   "execution_count": 49,
   "id": "8200a02c-28b6-442c-abb4-e9c5df0da3e6",
   "metadata": {},
   "outputs": [],
   "source": [
    "size_map = {\n",
    "    'S': 'Small (Mała)',\n",
    "    'M': 'Medium (Średnia)',\n",
    "    'L': 'Large (Duża)'\n",
    "}"
   ]
  },
  {
   "cell_type": "code",
   "execution_count": 50,
   "id": "9a9a62d6-bd5a-475b-8765-231c099a4e30",
   "metadata": {},
   "outputs": [],
   "source": [
    "df['company_size_full'] = df['company_size'].map(size_map)"
   ]
  },
  {
   "cell_type": "code",
   "execution_count": 51,
   "id": "2f21c972-d0a4-4195-8f80-881a27bc25d9",
   "metadata": {},
   "outputs": [],
   "source": [
    "median_salary_by_size = df.groupby('company_size_full')['salary_in_usd'].median().reset_index()"
   ]
  },
  {
   "cell_type": "code",
   "execution_count": 52,
   "id": "e01ca167-c4e1-4697-b3c5-6e7129d28ba2",
   "metadata": {},
   "outputs": [
    {
     "name": "stdout",
     "output_type": "stream",
     "text": [
      "  company_size_full  salary_in_usd\n",
      "0      Large (Duża)        91500.0\n",
      "1  Medium (Średnia)        71968.0\n",
      "2      Small (Mała)        68364.5\n"
     ]
    }
   ],
   "source": [
    "print(median_salary_by_size.sort_values(by='salary_in_usd', ascending=False))"
   ]
  },
  {
   "cell_type": "code",
   "execution_count": 53,
   "id": "931a7d4a-946e-49a0-8bd6-c5e20e35b73e",
   "metadata": {},
   "outputs": [],
   "source": [
    "size_order = ['Small (Mała)', 'Medium (Średnia)', 'Large (Duża)']"
   ]
  },
  {
   "cell_type": "code",
   "execution_count": 56,
   "id": "0b79ab22-f793-40af-8d62-b4d5ab9bc139",
   "metadata": {},
   "outputs": [],
   "source": [
    "chart_size_salary = alt.Chart(median_salary_by_size).mark_bar().encode(\n",
    "    x=alt.X('company_size_full', title='Wielkość Firmy', sort=size_order),\n",
    "    y=alt.Y('salary_in_usd', title='Mediana Pensji (USD)'),\n",
    "    tooltip=[\n",
    "        alt.Tooltip('company_size_full', title='Wielkość Firmy'),\n",
    "        alt.Tooltip('salary_in_usd', title='Mediana Pensji', format=',.0f')\n",
    "    ]\n",
    ").properties(\n",
    "    title='Mediana zarobków w Data Science wg wielkości firmy',\n",
    "    width=800\n",
    ").interactive()\n",
    "\n",
    "chart_size_salary.save('salary_by_company_size.html')"
   ]
  },
  {
   "cell_type": "code",
   "execution_count": null,
   "id": "5bbc2f15-9883-4a2b-9c37-87859a221910",
   "metadata": {},
   "outputs": [],
   "source": []
  }
 ],
 "metadata": {
  "kernelspec": {
   "display_name": "Python 3 (ipykernel)",
   "language": "python",
   "name": "python3"
  },
  "language_info": {
   "codemirror_mode": {
    "name": "ipython",
    "version": 3
   },
   "file_extension": ".py",
   "mimetype": "text/x-python",
   "name": "python",
   "nbconvert_exporter": "python",
   "pygments_lexer": "ipython3",
   "version": "3.12.3"
  }
 },
 "nbformat": 4,
 "nbformat_minor": 5
}
